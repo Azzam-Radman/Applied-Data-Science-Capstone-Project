{
 "cells": [
  {
   "cell_type": "code",
   "execution_count": 2,
   "metadata": {},
   "outputs": [
    {
     "name": "stdout",
     "output_type": "stream",
     "text": [
      "Collecting bs4\n",
      "  Downloading https://files.pythonhosted.org/packages/10/ed/7e8b97591f6f456174139ec089c769f89a94a1a4025fe967691de971f314/bs4-0.0.1.tar.gz\n",
      "Collecting beautifulsoup4 (from bs4)\n",
      "\u001b[?25l  Downloading https://files.pythonhosted.org/packages/66/25/ff030e2437265616a1e9b25ccc864e0371a0bc3adb7c5a404fd661c6f4f6/beautifulsoup4-4.9.1-py3-none-any.whl (115kB)\n",
      "\u001b[K     |████████████████████████████████| 122kB 5.8MB/s eta 0:00:01\n",
      "\u001b[?25hCollecting soupsieve>1.2 (from beautifulsoup4->bs4)\n",
      "  Downloading https://files.pythonhosted.org/packages/6f/8f/457f4a5390eeae1cc3aeab89deb7724c965be841ffca6cfca9197482e470/soupsieve-2.0.1-py3-none-any.whl\n",
      "Building wheels for collected packages: bs4\n",
      "  Building wheel for bs4 (setup.py) ... \u001b[?25ldone\n",
      "\u001b[?25h  Stored in directory: /home/jupyterlab/.cache/pip/wheels/a0/b0/b2/4f80b9456b87abedbc0bf2d52235414c3467d8889be38dd472\n",
      "Successfully built bs4\n",
      "Installing collected packages: soupsieve, beautifulsoup4, bs4\n",
      "Successfully installed beautifulsoup4-4.9.1 bs4-0.0.1 soupsieve-2.0.1\n"
     ]
    }
   ],
   "source": [
    "!pip install bs4"
   ]
  },
  {
   "cell_type": "code",
   "execution_count": 3,
   "metadata": {},
   "outputs": [],
   "source": [
    "from bs4 import BeautifulSoup\n",
    "import requests\n",
    "import pandas as pd"
   ]
  },
  {
   "cell_type": "code",
   "execution_count": 4,
   "metadata": {},
   "outputs": [],
   "source": [
    "wiki_url = 'https://en.wikipedia.org/wiki/List_of_postal_codes_of_Canada:_M'\n",
    "response = requests.get(wiki_url)\n",
    "soup = BeautifulSoup(response.text, 'html.parser')"
   ]
  },
  {
   "cell_type": "code",
   "execution_count": 5,
   "metadata": {},
   "outputs": [],
   "source": [
    "table = soup.find('table', {'class':'wikitable sortable'}).tbody\n",
    "#print(table)"
   ]
  },
  {
   "cell_type": "code",
   "execution_count": 6,
   "metadata": {},
   "outputs": [
    {
     "name": "stdout",
     "output_type": "stream",
     "text": [
      "['Postal Code', 'Borough', 'Neighbourhood']\n"
     ]
    }
   ],
   "source": [
    "rows = table.find_all('tr')\n",
    "columns = [v.text.replace('\\n','') for v in rows[0].find_all('th')]\n",
    "print(columns)"
   ]
  },
  {
   "cell_type": "code",
   "execution_count": 7,
   "metadata": {},
   "outputs": [
    {
     "name": "stdout",
     "output_type": "stream",
     "text": [
      "[<tr>\n",
      "<th>Postal Code\n",
      "</th>\n",
      "<th>Borough\n",
      "</th>\n",
      "<th>Neighbourhood\n",
      "</th></tr>, <tr>\n",
      "<td>M1A\n",
      "</td>\n",
      "<td>Not assigned\n",
      "</td>\n",
      "<td>Not assigned\n",
      "</td></tr>, <tr>\n",
      "<td>M2A\n",
      "</td>\n",
      "<td>Not assigned\n",
      "</td>\n",
      "<td>Not assigned\n",
      "</td></tr>, <tr>\n",
      "<td>M3A\n",
      "</td>\n",
      "<td>North York\n",
      "</td>\n",
      "<td>Parkwoods\n",
      "</td></tr>, <tr>\n",
      "<td>M4A\n",
      "</td>\n",
      "<td>North York\n",
      "</td>\n",
      "<td>Victoria Village\n",
      "</td></tr>]\n"
     ]
    }
   ],
   "source": [
    "print(rows[0:5])"
   ]
  },
  {
   "cell_type": "code",
   "execution_count": 8,
   "metadata": {},
   "outputs": [],
   "source": [
    "df = pd.DataFrame(columns=columns)\n",
    "for i in range(1,len(rows)):\n",
    "    tds = rows[i].find_all('td')\n",
    "    \n",
    "    if len(tds) < 3:\n",
    "        values = [tds[0].text.replace('\\n',''), tds[1].text.replace('\\n',''), tds[2].text.replace('\\n','')]\n",
    "    else:\n",
    "        values = [td.text.replace('\\n','') for td in tds]\n",
    "    df = df.append(pd.Series(values, index=columns), ignore_index=True) "
   ]
  },
  {
   "cell_type": "code",
   "execution_count": 9,
   "metadata": {},
   "outputs": [
    {
     "data": {
      "text/html": [
       "<div>\n",
       "<style scoped>\n",
       "    .dataframe tbody tr th:only-of-type {\n",
       "        vertical-align: middle;\n",
       "    }\n",
       "\n",
       "    .dataframe tbody tr th {\n",
       "        vertical-align: top;\n",
       "    }\n",
       "\n",
       "    .dataframe thead th {\n",
       "        text-align: right;\n",
       "    }\n",
       "</style>\n",
       "<table border=\"1\" class=\"dataframe\">\n",
       "  <thead>\n",
       "    <tr style=\"text-align: right;\">\n",
       "      <th></th>\n",
       "      <th>Postal Code</th>\n",
       "      <th>Borough</th>\n",
       "      <th>Neighbourhood</th>\n",
       "    </tr>\n",
       "  </thead>\n",
       "  <tbody>\n",
       "    <tr>\n",
       "      <th>0</th>\n",
       "      <td>M1A</td>\n",
       "      <td>Not assigned</td>\n",
       "      <td>Not assigned</td>\n",
       "    </tr>\n",
       "    <tr>\n",
       "      <th>1</th>\n",
       "      <td>M2A</td>\n",
       "      <td>Not assigned</td>\n",
       "      <td>Not assigned</td>\n",
       "    </tr>\n",
       "    <tr>\n",
       "      <th>2</th>\n",
       "      <td>M3A</td>\n",
       "      <td>North York</td>\n",
       "      <td>Parkwoods</td>\n",
       "    </tr>\n",
       "    <tr>\n",
       "      <th>3</th>\n",
       "      <td>M4A</td>\n",
       "      <td>North York</td>\n",
       "      <td>Victoria Village</td>\n",
       "    </tr>\n",
       "    <tr>\n",
       "      <th>4</th>\n",
       "      <td>M5A</td>\n",
       "      <td>Downtown Toronto</td>\n",
       "      <td>Regent Park, Harbourfront</td>\n",
       "    </tr>\n",
       "  </tbody>\n",
       "</table>\n",
       "</div>"
      ],
      "text/plain": [
       "  Postal Code           Borough              Neighbourhood\n",
       "0         M1A      Not assigned               Not assigned\n",
       "1         M2A      Not assigned               Not assigned\n",
       "2         M3A        North York                  Parkwoods\n",
       "3         M4A        North York           Victoria Village\n",
       "4         M5A  Downtown Toronto  Regent Park, Harbourfront"
      ]
     },
     "execution_count": 9,
     "metadata": {},
     "output_type": "execute_result"
    }
   ],
   "source": [
    "df.head()"
   ]
  },
  {
   "cell_type": "code",
   "execution_count": 10,
   "metadata": {},
   "outputs": [],
   "source": [
    "import numpy as np"
   ]
  },
  {
   "cell_type": "code",
   "execution_count": 11,
   "metadata": {},
   "outputs": [],
   "source": [
    "# Remove rows with 'Not assigned' in their Borough attribute\n",
    "df = df[df['Borough'].replace('Not assigned',np.nan).notnull()]"
   ]
  },
  {
   "cell_type": "code",
   "execution_count": 12,
   "metadata": {},
   "outputs": [],
   "source": [
    "# Reset the index after removing some rows\n",
    "df = df.reset_index(drop=True)"
   ]
  },
  {
   "cell_type": "code",
   "execution_count": 13,
   "metadata": {},
   "outputs": [
    {
     "data": {
      "text/html": [
       "<div>\n",
       "<style scoped>\n",
       "    .dataframe tbody tr th:only-of-type {\n",
       "        vertical-align: middle;\n",
       "    }\n",
       "\n",
       "    .dataframe tbody tr th {\n",
       "        vertical-align: top;\n",
       "    }\n",
       "\n",
       "    .dataframe thead th {\n",
       "        text-align: right;\n",
       "    }\n",
       "</style>\n",
       "<table border=\"1\" class=\"dataframe\">\n",
       "  <thead>\n",
       "    <tr style=\"text-align: right;\">\n",
       "      <th></th>\n",
       "      <th>Postal Code</th>\n",
       "      <th>Borough</th>\n",
       "      <th>Neighbourhood</th>\n",
       "    </tr>\n",
       "  </thead>\n",
       "  <tbody>\n",
       "    <tr>\n",
       "      <th>0</th>\n",
       "      <td>M3A</td>\n",
       "      <td>North York</td>\n",
       "      <td>Parkwoods</td>\n",
       "    </tr>\n",
       "    <tr>\n",
       "      <th>1</th>\n",
       "      <td>M4A</td>\n",
       "      <td>North York</td>\n",
       "      <td>Victoria Village</td>\n",
       "    </tr>\n",
       "    <tr>\n",
       "      <th>2</th>\n",
       "      <td>M5A</td>\n",
       "      <td>Downtown Toronto</td>\n",
       "      <td>Regent Park, Harbourfront</td>\n",
       "    </tr>\n",
       "    <tr>\n",
       "      <th>3</th>\n",
       "      <td>M6A</td>\n",
       "      <td>North York</td>\n",
       "      <td>Lawrence Manor, Lawrence Heights</td>\n",
       "    </tr>\n",
       "    <tr>\n",
       "      <th>4</th>\n",
       "      <td>M7A</td>\n",
       "      <td>Downtown Toronto</td>\n",
       "      <td>Queen's Park, Ontario Provincial Government</td>\n",
       "    </tr>\n",
       "  </tbody>\n",
       "</table>\n",
       "</div>"
      ],
      "text/plain": [
       "  Postal Code           Borough                                Neighbourhood\n",
       "0         M3A        North York                                    Parkwoods\n",
       "1         M4A        North York                             Victoria Village\n",
       "2         M5A  Downtown Toronto                    Regent Park, Harbourfront\n",
       "3         M6A        North York             Lawrence Manor, Lawrence Heights\n",
       "4         M7A  Downtown Toronto  Queen's Park, Ontario Provincial Government"
      ]
     },
     "execution_count": 13,
     "metadata": {},
     "output_type": "execute_result"
    }
   ],
   "source": [
    "df.head()"
   ]
  },
  {
   "cell_type": "markdown",
   "metadata": {},
   "source": [
    "#### Let's check if there is any repitition in the postal code:\n",
    "#### If the "
   ]
  },
  {
   "cell_type": "code",
   "execution_count": 14,
   "metadata": {},
   "outputs": [
    {
     "data": {
      "text/plain": [
       "Postal Code  Postal Code\n",
       "M1B          M1B            1\n",
       "M1C          M1C            1\n",
       "M1E          M1E            1\n",
       "M1G          M1G            1\n",
       "M1H          M1H            1\n",
       "M1J          M1J            1\n",
       "M1K          M1K            1\n",
       "M1L          M1L            1\n",
       "M1M          M1M            1\n",
       "M1N          M1N            1\n",
       "M1P          M1P            1\n",
       "M1R          M1R            1\n",
       "M1S          M1S            1\n",
       "M1T          M1T            1\n",
       "M1V          M1V            1\n",
       "M1W          M1W            1\n",
       "M1X          M1X            1\n",
       "M2H          M2H            1\n",
       "M2J          M2J            1\n",
       "M2K          M2K            1\n",
       "M2L          M2L            1\n",
       "M2M          M2M            1\n",
       "M2N          M2N            1\n",
       "M2P          M2P            1\n",
       "M2R          M2R            1\n",
       "M3A          M3A            1\n",
       "M3B          M3B            1\n",
       "M3C          M3C            1\n",
       "M3H          M3H            1\n",
       "M3J          M3J            1\n",
       "M3K          M3K            1\n",
       "M3L          M3L            1\n",
       "M3M          M3M            1\n",
       "M3N          M3N            1\n",
       "M4A          M4A            1\n",
       "M4B          M4B            1\n",
       "M4C          M4C            1\n",
       "M4E          M4E            1\n",
       "M4G          M4G            1\n",
       "M4H          M4H            1\n",
       "M4J          M4J            1\n",
       "M4K          M4K            1\n",
       "M4L          M4L            1\n",
       "M4M          M4M            1\n",
       "M4N          M4N            1\n",
       "M4P          M4P            1\n",
       "M4R          M4R            1\n",
       "M4S          M4S            1\n",
       "M4T          M4T            1\n",
       "M4V          M4V            1\n",
       "M4W          M4W            1\n",
       "M4X          M4X            1\n",
       "M4Y          M4Y            1\n",
       "M5A          M5A            1\n",
       "M5B          M5B            1\n",
       "M5C          M5C            1\n",
       "M5E          M5E            1\n",
       "M5G          M5G            1\n",
       "M5H          M5H            1\n",
       "M5J          M5J            1\n",
       "M5K          M5K            1\n",
       "M5L          M5L            1\n",
       "M5M          M5M            1\n",
       "M5N          M5N            1\n",
       "M5P          M5P            1\n",
       "M5R          M5R            1\n",
       "M5S          M5S            1\n",
       "M5T          M5T            1\n",
       "M5V          M5V            1\n",
       "M5W          M5W            1\n",
       "M5X          M5X            1\n",
       "M6A          M6A            1\n",
       "M6B          M6B            1\n",
       "M6C          M6C            1\n",
       "M6E          M6E            1\n",
       "M6G          M6G            1\n",
       "M6H          M6H            1\n",
       "M6J          M6J            1\n",
       "M6K          M6K            1\n",
       "M6L          M6L            1\n",
       "M6M          M6M            1\n",
       "M6N          M6N            1\n",
       "M6P          M6P            1\n",
       "M6R          M6R            1\n",
       "M6S          M6S            1\n",
       "M7A          M7A            1\n",
       "M7R          M7R            1\n",
       "M7Y          M7Y            1\n",
       "M8V          M8V            1\n",
       "M8W          M8W            1\n",
       "M8X          M8X            1\n",
       "M8Y          M8Y            1\n",
       "M8Z          M8Z            1\n",
       "M9A          M9A            1\n",
       "M9B          M9B            1\n",
       "M9C          M9C            1\n",
       "M9L          M9L            1\n",
       "M9M          M9M            1\n",
       "M9N          M9N            1\n",
       "M9P          M9P            1\n",
       "M9R          M9R            1\n",
       "M9V          M9V            1\n",
       "M9W          M9W            1\n",
       "Name: Postal Code, dtype: int64"
      ]
     },
     "execution_count": 14,
     "metadata": {},
     "output_type": "execute_result"
    }
   ],
   "source": [
    "pd.set_option(\"display.max_rows\", None, \"display.max_columns\", None) \n",
    "# Show the counts of each unique postal code\n",
    "df.groupby(['Postal Code'])['Postal Code'].value_counts()"
   ]
  },
  {
   "cell_type": "code",
   "execution_count": 15,
   "metadata": {},
   "outputs": [
    {
     "name": "stdout",
     "output_type": "stream",
     "text": [
      "Every postal code in the data frame is unique\n"
     ]
    }
   ],
   "source": [
    "# If the number of the unique postal codes is equal to postal codes in the original dataframe, then all postal codes are unique\n",
    "if df.shape[0] == df.groupby(['Postal Code'])['Postal Code'].value_counts().shape[0]:\n",
    "    print('Every postal code in the data frame is unique')"
   ]
  },
  {
   "cell_type": "markdown",
   "metadata": {},
   "source": [
    "### The dataframe shape (rows, columns) is:"
   ]
  },
  {
   "cell_type": "code",
   "execution_count": 16,
   "metadata": {},
   "outputs": [
    {
     "name": "stdout",
     "output_type": "stream",
     "text": [
      "(103, 3)\n"
     ]
    }
   ],
   "source": [
    "# Show the shape of the cleaned dataframe\n",
    "print(df.shape)"
   ]
  },
  {
   "cell_type": "code",
   "execution_count": null,
   "metadata": {},
   "outputs": [],
   "source": []
  }
 ],
 "metadata": {
  "kernelspec": {
   "display_name": "Python",
   "language": "python",
   "name": "conda-env-python-py"
  },
  "language_info": {
   "codemirror_mode": {
    "name": "ipython",
    "version": 3
   },
   "file_extension": ".py",
   "mimetype": "text/x-python",
   "name": "python",
   "nbconvert_exporter": "python",
   "pygments_lexer": "ipython3",
   "version": "3.6.11"
  }
 },
 "nbformat": 4,
 "nbformat_minor": 4
}
